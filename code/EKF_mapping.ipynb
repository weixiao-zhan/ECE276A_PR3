{
 "cells": [
  {
   "cell_type": "code",
   "execution_count": null,
   "metadata": {},
   "outputs": [],
   "source": [
    "import numpy as np\n",
    "from pr3_utils import *\n",
    "from stereo import *\n",
    "from tqdm import tqdm"
   ]
  },
  {
   "cell_type": "code",
   "execution_count": null,
   "metadata": {},
   "outputs": [],
   "source": [
    "dataset = \"10\"\n",
    "time_stamp,features,linear_velocity,angular_velocity,K,b,imu_T_cam = load_data(f\"../data/{dataset}.npz\")\n",
    "\n",
    "num_time_stamp = time_stamp.shape[0]\n",
    "num_features = features.shape[1]\n",
    "\n",
    "tau = time_stamp[1:] - time_stamp[:-1]\n",
    "velocity = np.concatenate([linear_velocity, angular_velocity], axis=1)\n",
    "\n",
    "T_mean = np.load(f\"../data/predict_T_mean_{dataset}.npy\")\n",
    "T_covar = np.load(f\"../data/predict_T_covar_{dataset}.npy\")\n",
    "\n",
    "M_init = np.load(f\"../data/M_init_{dataset}.npy\")"
   ]
  },
  {
   "cell_type": "code",
   "execution_count": null,
   "metadata": {},
   "outputs": [],
   "source": [
    "cam_T_imu = inversePose(imu_T_cam)\n",
    "fsu = K[0,0]\n",
    "fsv = K[1,1]\n",
    "cu  = K[0,2]\n",
    "cv  = K[1,2]\n",
    "Ks = np.array([\n",
    "    [fsu,0,cu,0],\n",
    "    [0,fsv,cv,0],\n",
    "    [fsu,0,cu,-fsu*b],\n",
    "    [0,fsv,cv,0],\n",
    "])\n",
    "P = np.array([\n",
    "    [1,0,0,0],\n",
    "    [0,1,0,0],\n",
    "    [0,0,1,0],\n",
    "])"
   ]
  },
  {
   "cell_type": "code",
   "execution_count": null,
   "metadata": {},
   "outputs": [],
   "source": [
    "# features_mu = np.zeros([num_features*3])\n",
    "M_mean = np.copy(M_init)\n",
    "M_covar_flat = np.eye(3*num_features, 3*num_features, dtype=np.float16)\n",
    "M_covar = M_covar_flat.reshape(num_features, 3, num_features, 3)\n",
    "\n",
    "M_covar_norm_t = []\n",
    "M_covar_norm = []\n",
    "\n",
    "V = 1\n",
    "for t in tqdm(range(1, num_time_stamp)):\n",
    "    # update step\n",
    "    present_mask = get_seeing_mask(features[t,:,:], d_min=3)\n",
    "    Nt = np.sum(present_mask)\n",
    "    \n",
    "    # compose observation\n",
    "    present_M_mean = M_mean[present_mask, :]\n",
    "    present_M_mean_homo = np.hstack([present_M_mean, np.ones([Nt,1])])\n",
    "    ixgrid = np.ix_(present_mask, np.arange(3), present_mask, np.arange(3))\n",
    "    present_M_covar_flat = M_covar[ixgrid].reshape([Nt*3, Nt*3])\n",
    "\n",
    "    # build H\n",
    "    H = np.zeros([Nt, 4, Nt, 3])\n",
    "    cam_T_world = cam_T_imu @ inversePose(T_mean[t])\n",
    "    for j in range(Nt):\n",
    "        # δh(T, m_j) / δm_j\n",
    "        H[j,:,j,:] = Ks @ \\\n",
    "         projectionJacobian(cam_T_world @ present_M_mean_homo[j,:]) @ \\\n",
    "         cam_T_world@P.T\n",
    "    H = H.reshape([Nt*4, Nt*3])\n",
    "\n",
    "    # compute Kalman gain and innovation \n",
    "    K = present_M_covar_flat @ H.T @ np.linalg.inv(H @ present_M_covar_flat @ H.T + V*np.eye(Nt*4))\n",
    "    innovation = K @ (\n",
    "        features[t,present_mask,:] - (projection(present_M_mean_homo @ cam_T_world.T)@Ks.T)\n",
    "    ).reshape(-1)\n",
    "    \n",
    "    # update\n",
    "    M_mean[present_mask, :] = present_M_mean + innovation.reshape(-1, 3)\n",
    "    M_covar[ixgrid] = (\n",
    "        (np.eye(Nt*3) - K@H)@present_M_covar_flat\n",
    "    ).reshape(Nt, 3, Nt, 3)\n",
    "\n",
    "    # log covariance\n",
    "    if t%50 == 0:\n",
    "        M_covar_norm_t.append(time_stamp[t])\n",
    "        M_covar_norm.append(np.linalg.norm(M_covar))"
   ]
  },
  {
   "cell_type": "code",
   "execution_count": null,
   "metadata": {},
   "outputs": [],
   "source": [
    "fig,_ = visualize_trajectory(T_mean, features=M_mean, show_ori=False, path_name=\"EKF_localization\")\n",
    "fig.savefig(f\"../img/EKF_mapping_{dataset}\", dpi=300)\n",
    "plt.plot()"
   ]
  },
  {
   "cell_type": "code",
   "execution_count": null,
   "metadata": {},
   "outputs": [],
   "source": [
    "plt.plot(M_covar_norm_t, M_covar_norm)\n",
    "plt.scatter(M_covar_norm_t, M_covar_norm)\n",
    "plt.xlabel(\"time stamp\")\n",
    "plt.ylabel(\"|| M_covar ||\")\n",
    "plt.savefig(f\"../img/M_covar_norm_{dataset}\", dpi=300)\n",
    "plt.show()"
   ]
  },
  {
   "cell_type": "code",
   "execution_count": null,
   "metadata": {},
   "outputs": [],
   "source": [
    "from matplotlib.colors import Normalize\n",
    "\n",
    "sample_step = 400\n",
    "size = int(np.ceil(num_features/sample_step)*3)\n",
    "# vmin, vmax = np.min(M_covar), np.max(M_covar)\n",
    "vmin, vmax = -1, 1\n",
    "plt.imshow(\n",
    "    M_covar[::sample_step, :, ::sample_step, :].reshape(size, size), \n",
    "    cmap='viridis', origin='lower', norm=Normalize(vmin=vmin, vmax=vmax))\n",
    "plt.colorbar()\n",
    "plt.savefig(f\"../img/M_covar_sample_{dataset}\", dpi=300)\n",
    "plt.show()"
   ]
  },
  {
   "cell_type": "code",
   "execution_count": null,
   "metadata": {},
   "outputs": [],
   "source": [
    "sample_step = 10\n",
    "plt.imshow(\n",
    "    M_covar[:sample_step, :, :sample_step, :].reshape(3*sample_step, 3*sample_step), \n",
    "    cmap='viridis', origin='lower', norm=Normalize(vmin=vmin, vmax=vmax))\n",
    "plt.colorbar()\n",
    "plt.savefig(f\"../img/M_covar_{dataset}(first{sample_step}).png\", dpi=300)\n",
    "plt.show()"
   ]
  },
  {
   "cell_type": "code",
   "execution_count": null,
   "metadata": {},
   "outputs": [],
   "source": [
    "print(M_covar.nbytes/1024/1024/1024, \"GB\")\n",
    "np.sum(M_covar<0)"
   ]
  },
  {
   "cell_type": "markdown",
   "metadata": {},
   "source": [
    "### reshape trick"
   ]
  },
  {
   "cell_type": "code",
   "execution_count": null,
   "metadata": {},
   "outputs": [],
   "source": [
    "import numpy as np\n",
    "# f = np.arange(6).reshape(2,3)\n",
    "# print(f, f.reshape(-1,1))\n",
    "present_m = np.array([True, False, True])\n",
    "\n",
    "cov = np.diag(np.arange(9)).reshape(3,3,3,3)\n",
    "cov_full = cov.reshape(9,9)\n",
    "print(cov_full)\n",
    "cov[-2:,:,-2:,:].shape"
   ]
  },
  {
   "cell_type": "code",
   "execution_count": null,
   "metadata": {},
   "outputs": [],
   "source": [
    "import numpy as np\n",
    "h = np.arange(24)\n",
    "j = h.reshape(4,6)\n",
    "\n",
    "h, j"
   ]
  },
  {
   "cell_type": "code",
   "execution_count": null,
   "metadata": {},
   "outputs": [],
   "source": [
    "h[0] = -1\n",
    "j"
   ]
  }
 ],
 "metadata": {
  "kernelspec": {
   "display_name": "base",
   "language": "python",
   "name": "python3"
  },
  "language_info": {
   "codemirror_mode": {
    "name": "ipython",
    "version": 3
   },
   "file_extension": ".py",
   "mimetype": "text/x-python",
   "name": "python",
   "nbconvert_exporter": "python",
   "pygments_lexer": "ipython3",
   "version": "3.11.7"
  }
 },
 "nbformat": 4,
 "nbformat_minor": 2
}
