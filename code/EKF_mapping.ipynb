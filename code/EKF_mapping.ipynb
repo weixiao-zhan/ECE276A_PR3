{
 "cells": [
  {
   "cell_type": "code",
   "execution_count": null,
   "metadata": {},
   "outputs": [],
   "source": [
    "import numpy as np\n",
    "from pr3_utils import *\n",
    "from stereo import *\n",
    "from tqdm import tqdm"
   ]
  },
  {
   "cell_type": "code",
   "execution_count": null,
   "metadata": {},
   "outputs": [],
   "source": [
    "dataset = \"03\"\n",
    "feature_type = \"all\"\n",
    "feature_type = \"selected\"\n",
    "\n",
    "time_stamp,features,linear_velocity,angular_velocity,k,b,imu_T_cam = \\\n",
    "    load_data(f\"../data/{dataset}.npz\")\n",
    "\n",
    "num_time_stamp = time_stamp.shape[0]\n",
    "num_features = features.shape[1]\n",
    "\n",
    "tau = time_stamp[1:] - time_stamp[:-1]\n",
    "velocity = np.concatenate([linear_velocity, angular_velocity], axis=1)\n",
    "\n",
    "T_mean = np.load(f\"../data/{dataset}_EKF_localization_T_mean.npy\")"
   ]
  },
  {
   "cell_type": "code",
   "execution_count": null,
   "metadata": {},
   "outputs": [],
   "source": [
    "cam_T_imu = inversePose(imu_T_cam)\n",
    "fsu = k[0,0]\n",
    "fsv = k[1,1]\n",
    "cu  = k[0,2]\n",
    "cv  = k[1,2]\n",
    "Ks = np.array([\n",
    "    [fsu,0,cu,0],\n",
    "    [0,fsv,cv,0],\n",
    "    [fsu,0,cu,-fsu*b],\n",
    "    [0,fsv,cv,0],\n",
    "])\n",
    "P = np.array([\n",
    "    [1,0,0,0],\n",
    "    [0,1,0,0],\n",
    "    [0,0,1,0],\n",
    "])"
   ]
  },
  {
   "cell_type": "markdown",
   "metadata": {},
   "source": [
    "### mapping"
   ]
  },
  {
   "cell_type": "code",
   "execution_count": null,
   "metadata": {},
   "outputs": [],
   "source": [
    "if feature_type == \"all\":\n",
    "    M_init = np.load(f\"../data/{dataset}_EKF_mapping_M_init_{feature_type}.npy\")\n",
    "else:\n",
    "    M_init = np.load(f\"../data/{dataset}_EKF_mapping_M_init_{feature_type}.npy\")\n",
    "    M_selection_mask = np.load(f\"../data/{dataset}_EKF_mapping_M_mask_{feature_type}.npy\")\n",
    "    M_init = M_init[M_selection_mask]\n",
    "    features = features[:,M_selection_mask,:]"
   ]
  },
  {
   "cell_type": "code",
   "execution_count": null,
   "metadata": {},
   "outputs": [],
   "source": [
    "# noise model\n",
    "V = 5\n",
    "\n",
    "# log list\n",
    "log_M_covar_norm_t = []\n",
    "log_M_covar_norm = []\n",
    "\n",
    "# init\n",
    "M_mean = np.copy(M_init)\n",
    "M_covar_flat = np.eye(3*num_features, 3*num_features, dtype=np.float16)\n",
    "M_covar = M_covar_flat.reshape(num_features, 3, num_features, 3)\n",
    "\n",
    "# EKF\n",
    "for t in tqdm(range(1, num_time_stamp)):\n",
    "    # update step\n",
    "    present_mask = get_seeing_mask(features[t,:,:], d_min=3)\n",
    "    Nt = np.sum(present_mask)\n",
    "    \n",
    "    # compose observation\n",
    "    present_M_mean = M_mean[present_mask, :]\n",
    "    present_M_mean_homo = np.hstack([present_M_mean, np.ones([Nt,1])])\n",
    "    ixgrid = np.ix_(present_mask, np.arange(3), present_mask, np.arange(3))\n",
    "    present_M_covar_flat = M_covar[ixgrid].reshape([Nt*3, Nt*3])\n",
    "\n",
    "    # build H\n",
    "    H = np.zeros([Nt, 4, Nt, 3])\n",
    "    cam_T_world = cam_T_imu @ inversePose(T_mean[t])\n",
    "    for j in range(Nt):\n",
    "        # δh(T, m_j) / δm_j\n",
    "        H[j,:,j,:] = Ks @ \\\n",
    "         projectionJacobian(cam_T_world @ present_M_mean_homo[j,:]) @ \\\n",
    "         cam_T_world@P.T\n",
    "    H = H.reshape([Nt*4, Nt*3])\n",
    "\n",
    "    # Kalman gain and innovation \n",
    "    K = present_M_covar_flat @ H.T @ np.linalg.inv(H @ present_M_covar_flat @ H.T + V*np.eye(Nt*4))\n",
    "    innovation = K @ (\n",
    "        features[t,present_mask,:] - (projection(present_M_mean_homo @ cam_T_world.T)@Ks.T)\n",
    "    ).reshape(-1)\n",
    "    \n",
    "    # update\n",
    "    M_mean[present_mask, :] = present_M_mean + innovation.reshape(-1, 3)\n",
    "    M_covar[ixgrid] = (\n",
    "        (np.eye(Nt*3) - K@H)@present_M_covar_flat\n",
    "    ).reshape(Nt, 3, Nt, 3)\n",
    "\n",
    "    # log covariance\n",
    "    if t%50 == 0:\n",
    "        log_M_covar_norm_t.append(time_stamp[t])\n",
    "        log_M_covar_norm.append(np.trace(M_covar_flat))"
   ]
  },
  {
   "cell_type": "code",
   "execution_count": null,
   "metadata": {},
   "outputs": [],
   "source": [
    "fig,ax = visualize_trajectory(\"EKF_localization\", T_mean, show_ori=False,)\n",
    "\n",
    "plot_bound = 200\n",
    "x_min, x_max = np.min(T_mean[:,0,3]), np.max(T_mean[:,0,3])\n",
    "y_min, y_max = np.min(T_mean[:,1,3]), np.max(T_mean[:,1,3])\n",
    "plot_mask = (x_min-plot_bound < M_mean[:,0]) & (M_mean[:,0] < x_max+plot_bound) & \\\n",
    "            (y_min-plot_bound < M_mean[:,1]) & (M_mean[:,1] < y_max+plot_bound)\n",
    "ax.scatter(M_mean[plot_mask, 0], M_mean[plot_mask, 1], \n",
    "           s=0.1, c='C4',label=f\"features({feature_type})\")\n",
    "ax.legend()\n",
    "fig.savefig(f\"../img/{dataset}_EKF_mapping_{feature_type}\", dpi=300)\n",
    "plt.plot()"
   ]
  },
  {
   "cell_type": "code",
   "execution_count": null,
   "metadata": {},
   "outputs": [],
   "source": [
    "plt.plot(log_M_covar_norm_t, log_M_covar_norm)\n",
    "plt.scatter(log_M_covar_norm_t, log_M_covar_norm)\n",
    "plt.xlabel(\"time stamp\")\n",
    "plt.ylabel(\"tr(M_covar)\")\n",
    "plt.savefig(f\"../img/{dataset}_EKF_mapping_{feature_type}_covar_trace\", dpi=300)\n",
    "plt.show()"
   ]
  },
  {
   "cell_type": "code",
   "execution_count": null,
   "metadata": {},
   "outputs": [],
   "source": [
    "from matplotlib.colors import Normalize\n",
    "\n",
    "sample_step = 400\n",
    "size = int(np.ceil(num_features/sample_step)*3)\n",
    "# vmin, vmax = np.min(M_covar), np.max(M_covar)\n",
    "vmin, vmax = -1, 1\n",
    "plt.imshow(\n",
    "    M_covar[::sample_step, :, ::sample_step, :].reshape(size, size), \n",
    "    cmap='viridis', origin='lower', norm=Normalize(vmin=vmin, vmax=vmax))\n",
    "plt.colorbar()\n",
    "plt.savefig(f\"../img/{dataset}_EKF_mapping_{feature_type}_covar_sample\", dpi=300)\n",
    "plt.show()"
   ]
  },
  {
   "cell_type": "code",
   "execution_count": null,
   "metadata": {},
   "outputs": [],
   "source": [
    "print(M_covar.nbytes/1024/1024/1024, \"GB\")"
   ]
  }
 ],
 "metadata": {
  "kernelspec": {
   "display_name": "base",
   "language": "python",
   "name": "python3"
  },
  "language_info": {
   "codemirror_mode": {
    "name": "ipython",
    "version": 3
   },
   "file_extension": ".py",
   "mimetype": "text/x-python",
   "name": "python",
   "nbconvert_exporter": "python",
   "pygments_lexer": "ipython3",
   "version": "3.11.6"
  }
 },
 "nbformat": 4,
 "nbformat_minor": 2
}
