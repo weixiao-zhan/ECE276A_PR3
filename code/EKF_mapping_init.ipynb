{
 "cells": [
  {
   "cell_type": "code",
   "execution_count": null,
   "metadata": {},
   "outputs": [],
   "source": [
    "import numpy as np\n",
    "from pr3_utils import *\n",
    "from stereo import *"
   ]
  },
  {
   "cell_type": "markdown",
   "metadata": {},
   "source": [
    "### load data"
   ]
  },
  {
   "cell_type": "code",
   "execution_count": null,
   "metadata": {},
   "outputs": [],
   "source": [
    "dataset = \"10\"\n",
    "time_stamp,features,linear_velocity,angular_velocity,k,b,imu_T_cam = \\\n",
    "    load_data(f\"../data/{dataset}.npz\")\n",
    "T = np.load(f\"../data/{dataset}_EKF_localization_T_mean.npy\")"
   ]
  },
  {
   "cell_type": "markdown",
   "metadata": {},
   "source": [
    "### using **all** features"
   ]
  },
  {
   "cell_type": "code",
   "execution_count": null,
   "metadata": {},
   "outputs": [],
   "source": [
    "feature_type = \"all\"\n",
    "\n",
    "seen_count = np.zeros(features.shape[1], dtype=np.uint)\n",
    "M_init = np.zeros([features.shape[1], 3])\n",
    "\n",
    "for t in range(time_stamp.shape[0]):\n",
    "    present_mask = get_seeing_mask(features[t])\n",
    "    first_time_mask = np.logical_and(seen_count==0, present_mask)\n",
    "\n",
    "    PC_camera = features_to_PC(features[t, first_time_mask, :], k, b)\n",
    "    PC_camera_hom = np.hstack([PC_camera, np.ones([PC_camera.shape[0],1])])\n",
    "    PC_world_hom  = (T[t] @ imu_T_cam @ PC_camera_hom.T).T\n",
    "    PC_world = PC_world_hom[:,:3]/PC_world_hom[:,[3]]\n",
    "\n",
    "    M_init[first_time_mask] = PC_world\n",
    "    seen_count[present_mask] += 1\n",
    "    \n",
    "    if np.all(seen_count):\n",
    "        print(f\"seen all features at {t} stamp\")\n",
    "        break\n",
    "    \n",
    "print(np.sum(seen_count>0), features.shape[1])"
   ]
  },
  {
   "cell_type": "code",
   "execution_count": null,
   "metadata": {},
   "outputs": [],
   "source": [
    "fig, ax = visualize_trajectory(\"EKF_localization\", T, show_ori=False)\n",
    "ax.scatter(M_init[:, 0], M_init[:, 1], \n",
    "           s=0.1, c='C4',label=\"features\")\n",
    "ax.legend()\n",
    "fig.savefig(f'../img/{dataset}_EKF_mapping_{feature_type}_init.png', dpi=300)\n",
    "plt.show()"
   ]
  },
  {
   "cell_type": "code",
   "execution_count": null,
   "metadata": {},
   "outputs": [],
   "source": [
    "np.save(f\"../data/{dataset}_EKF_mapping_M_init_{feature_type}\",M_init)"
   ]
  },
  {
   "cell_type": "markdown",
   "metadata": {},
   "source": [
    "### using mid-range features"
   ]
  },
  {
   "cell_type": "code",
   "execution_count": null,
   "metadata": {},
   "outputs": [],
   "source": [
    "feature_type = \"selected\"\n",
    "\n",
    "seen_count = np.zeros(features.shape[1], dtype=np.uint)\n",
    "M_init = np.zeros([features.shape[1], 3])\n",
    "\n",
    "for t in range(time_stamp.shape[0]):\n",
    "    present_mask = get_seeing_mask(features[t], d_min=8, d_max=35)\n",
    "    first_time_mask = np.logical_and(seen_count==0, present_mask)\n",
    "\n",
    "    PC_camera = features_to_PC(features[t, first_time_mask, :], k, b)\n",
    "    PC_camera_hom = np.hstack([PC_camera, np.ones([PC_camera.shape[0],1])])\n",
    "    PC_world_hom  = (T[t] @ imu_T_cam @ PC_camera_hom.T).T\n",
    "    PC_world = PC_world_hom[:,:3]/PC_world_hom[:,[3]]\n",
    "\n",
    "    M_init[first_time_mask] = PC_world\n",
    "    seen_count[present_mask] += 1\n",
    "    \n",
    "    if np.all(seen_count):\n",
    "        print(f\"seen all features at {t} stamp\")\n",
    "        break\n",
    "print(np.sum(seen_count>2), features.shape[1])"
   ]
  },
  {
   "cell_type": "code",
   "execution_count": null,
   "metadata": {},
   "outputs": [],
   "source": [
    "fig, ax = visualize_trajectory(\"EKF_localization\", T, show_ori=False)\n",
    "ax.scatter(M_init[seen_count>2, 0], M_init[seen_count>2, 1], \n",
    "           s=0.1, c='C4',label=\"features\")\n",
    "ax.legend()\n",
    "fig.savefig(f'../img/{dataset}_EKF_mapping_{feature_type}_init.png', dpi=300)\n",
    "plt.show()"
   ]
  },
  {
   "cell_type": "code",
   "execution_count": null,
   "metadata": {},
   "outputs": [],
   "source": [
    "np.save(f\"../data/{dataset}_EKF_mapping_M_init_{feature_type}\", M_init)\n",
    "np.save(f\"../data/{dataset}_EKF_mapping_M_mask_{feature_type}\", seen_count>2)"
   ]
  }
 ],
 "metadata": {
  "kernelspec": {
   "display_name": "base",
   "language": "python",
   "name": "python3"
  },
  "language_info": {
   "codemirror_mode": {
    "name": "ipython",
    "version": 3
   },
   "file_extension": ".py",
   "mimetype": "text/x-python",
   "name": "python",
   "nbconvert_exporter": "python",
   "pygments_lexer": "ipython3",
   "version": "3.11.6"
  }
 },
 "nbformat": 4,
 "nbformat_minor": 2
}
