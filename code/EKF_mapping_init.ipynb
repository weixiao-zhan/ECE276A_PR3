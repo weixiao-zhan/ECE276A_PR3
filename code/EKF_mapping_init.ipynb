{
 "cells": [
  {
   "cell_type": "code",
   "execution_count": 1,
   "metadata": {},
   "outputs": [],
   "source": [
    "import numpy as np\n",
    "from pr3_utils import *\n",
    "from stereo import *"
   ]
  },
  {
   "cell_type": "markdown",
   "metadata": {},
   "source": [
    "### load data"
   ]
  },
  {
   "cell_type": "code",
   "execution_count": 2,
   "metadata": {},
   "outputs": [],
   "source": [
    "dataset = \"03\"\n",
    "time_stamp,features,linear_velocity,angular_velocity,k,b,imu_T_cam = \\\n",
    "    load_data(f\"../data/{dataset}.npz\")\n",
    "T = np.load(f\"../data/predict_T_mean_{dataset}.npy\")"
   ]
  },
  {
   "cell_type": "markdown",
   "metadata": {},
   "source": [
    "### pre-compute all feature init values"
   ]
  },
  {
   "cell_type": "code",
   "execution_count": null,
   "metadata": {},
   "outputs": [],
   "source": [
    "seen_mask = np.zeros(features.shape[1], dtype=bool)\n",
    "M_init = np.zeros([features.shape[1], 3])\n",
    "\n",
    "for t in range(time_stamp.shape[0]):\n",
    "    present_mask = get_seeing_mask(features[t])\n",
    "    first_time_mask = np.logical_and((np.logical_not(seen_mask)), present_mask)\n",
    "\n",
    "    PC_camera = features_to_PC(features[t, first_time_mask, :], k, b)\n",
    "    PC_camera_hom = np.hstack([PC_camera, np.ones([PC_camera.shape[0],1])])\n",
    "    PC_world_hom  = (T[t] @ imu_T_cam @ PC_camera_hom.T).T\n",
    "    PC_world = PC_world_hom[:,:3]/PC_world_hom[:,[3]]\n",
    "\n",
    "    M_init[first_time_mask] = PC_world\n",
    "    seen_mask[first_time_mask] = True\n",
    "    \n",
    "    if np.all(seen_mask):\n",
    "        print(f\"seen all features at {t} stamp\")\n",
    "        break"
   ]
  },
  {
   "cell_type": "code",
   "execution_count": null,
   "metadata": {},
   "outputs": [],
   "source": [
    "fig, _ = visualize_trajectory(T, features=M_init, path_name=\"EKF_localization\", show_ori=False)\n",
    "fig.savefig(f'../img/EKF_mapping_init_{dataset}.png', dpi=300)\n",
    "plt.show()"
   ]
  },
  {
   "cell_type": "code",
   "execution_count": null,
   "metadata": {},
   "outputs": [],
   "source": [
    "np.save(f\"../data/M_init_{dataset}\",M_init)\n",
    "# features_init = np.load(f\"../data/feature_init__{dataset}.npy\")\n",
    "# features_init.shape"
   ]
  },
  {
   "cell_type": "markdown",
   "metadata": {},
   "source": [
    "### examine one time stamp"
   ]
  },
  {
   "cell_type": "code",
   "execution_count": null,
   "metadata": {},
   "outputs": [],
   "source": [
    "M_init[0]"
   ]
  },
  {
   "cell_type": "code",
   "execution_count": null,
   "metadata": {},
   "outputs": [],
   "source": [
    "p = features_to_PC(features[10,0,:], k, b)\n",
    "features[10,0,:], p"
   ]
  },
  {
   "cell_type": "code",
   "execution_count": null,
   "metadata": {},
   "outputs": [],
   "source": [
    "p = np.array([*p, 1])\n",
    "fsu = k[0,0]\n",
    "fsv = k[1,1]\n",
    "cu  = k[0,2]\n",
    "cv  = k[1,2]\n",
    "Ks = np.array([\n",
    "    [fsu,0,cu,0],\n",
    "    [0,fsv,cv,0],\n",
    "    [fsu,0,cu,-fsu*b],\n",
    "    [0,fsv,cv,0],\n",
    "])\n",
    "Ks @ projection(p)"
   ]
  },
  {
   "cell_type": "code",
   "execution_count": null,
   "metadata": {},
   "outputs": [],
   "source": [
    "present_mask = get_seeing_mask(features[1], d_min=3)\n",
    "PC_camera = features_to_PC(features[0, present_mask, :], k, b)\n",
    "\n",
    "fig = plt.figure(figsize=(16, 12))\n",
    "ax = fig.add_subplot(111, projection='3d')\n",
    "\n",
    "# Scatter plot\n",
    "scatter = ax.scatter(PC_camera[:,0], PC_camera[:,1], PC_camera[:,2])\n",
    "\n",
    "# Labels and titles\n",
    "ax.set_title('3D Interactive Point Cloud')\n",
    "ax.set_xlabel('X Axis')\n",
    "ax.set_ylabel('Y Axis')\n",
    "ax.set_zlabel('Z Axis')\n",
    "\n",
    "# Show plot\n",
    "plt.show()\n",
    "\n",
    "# import open3d as o3d\n",
    "# point_cloud = o3d.geometry.PointCloud()\n",
    "# point_cloud.points = o3d.utility.Vector3dVector(PC_camera)\n",
    "\n",
    "# # Optionally, you can color the points. Here, all points are colored red.\n",
    "# colors = [[1, 0, 0] for i in range(len(PC_camera))]  # Red color in RGB\n",
    "# point_cloud.colors = o3d.utility.Vector3dVector(colors)\n",
    "# coordinate_frame = o3d.geometry.TriangleMesh.create_coordinate_frame(size=10, origin=[0, 0, 0])\n",
    "\n",
    "# # Visualizing the point cloud\n",
    "# o3d.visualization.draw_geometries([point_cloud, coordinate_frame])"
   ]
  },
  {
   "cell_type": "markdown",
   "metadata": {},
   "source": [
    "### estimate W"
   ]
  },
  {
   "cell_type": "code",
   "execution_count": 7,
   "metadata": {},
   "outputs": [
    {
     "name": "stderr",
     "output_type": "stream",
     "text": [
      "/Users/weixiaozhan/GradSchool/24WT/ECE276A_SensingEstimationRobotics/PR3/code/stereo.py:17: RuntimeWarning: divide by zero encountered in divide\n",
      "  z = fsu * b / d\n"
     ]
    },
    {
     "data": {
      "text/plain": [
       "(1010, 3)"
      ]
     },
     "execution_count": 7,
     "metadata": {},
     "output_type": "execute_result"
    }
   ],
   "source": [
    "features_to_PC(features[:,0,:], k, b).shape"
   ]
  },
  {
   "cell_type": "code",
   "execution_count": null,
   "metadata": {},
   "outputs": [],
   "source": []
  }
 ],
 "metadata": {
  "kernelspec": {
   "display_name": "base",
   "language": "python",
   "name": "python3"
  },
  "language_info": {
   "codemirror_mode": {
    "name": "ipython",
    "version": 3
   },
   "file_extension": ".py",
   "mimetype": "text/x-python",
   "name": "python",
   "nbconvert_exporter": "python",
   "pygments_lexer": "ipython3",
   "version": "3.11.7"
  }
 },
 "nbformat": 4,
 "nbformat_minor": 2
}
