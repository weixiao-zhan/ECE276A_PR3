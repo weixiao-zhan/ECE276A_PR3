{
 "cells": [
  {
   "cell_type": "code",
   "execution_count": null,
   "metadata": {},
   "outputs": [],
   "source": [
    "import numpy as np\n",
    "from pr3_utils import *\n",
    "from stereo import *"
   ]
  },
  {
   "cell_type": "code",
   "execution_count": null,
   "metadata": {},
   "outputs": [],
   "source": [
    "dataset = \"03\"\n",
    "time_stamp,features,linear_velocity,angular_velocity,k,b,imu_T_cam = \\\n",
    "    load_data(f\"../data/{dataset}.npz\")\n",
    "\n",
    "num_time_stamp = time_stamp.shape[0]\n",
    "num_features = features.shape[1]\n",
    "\n",
    "tau = time_stamp[1:] - time_stamp[:-1]\n",
    "velocity = np.concatenate([linear_velocity, angular_velocity], axis=1)"
   ]
  },
  {
   "cell_type": "code",
   "execution_count": null,
   "metadata": {},
   "outputs": [],
   "source": [
    "# noise model\n",
    "W = 1e-3\n",
    "\n",
    "# init\n",
    "T_mean = np.zeros([time_stamp.shape[0], 4, 4])\n",
    "T_covar = np.zeros([time_stamp.shape[0], 6, 6])\n",
    "T_mean[0,:,:] = np.array([\n",
    "    [1, 0, 0,0],\n",
    "    [0, 1, 0,0],\n",
    "    [0, 0, 1,0],\n",
    "    [0, 0, 0,1],\n",
    "])\n",
    "T_covar[0,:,:] = np.diag([0,0,0,0,0,0])\n",
    "\n",
    "# EKF predict\n",
    "for t in range(1, num_time_stamp):\n",
    "    T_mean[t,:,:] = T_mean[t-1,:,:] @ twist2pose(tau[t-1]*axangle2twist(velocity[t]))\n",
    "    F = twist2pose(-tau[t-1]*axangle2adtwist(velocity[t]))\n",
    "    T_covar[t,:,:] = F @ T_covar[t-1,:,:] @ F.T + W*np.eye(6)"
   ]
  },
  {
   "cell_type": "code",
   "execution_count": null,
   "metadata": {},
   "outputs": [],
   "source": [
    "fig,_ = visualize_trajectory(\"EKF_localization\", T_mean, 100*T_covar)\n",
    "fig.savefig(f'../img/{dataset}_EKF_localization.png', dpi=300)\n",
    "plt.show()"
   ]
  },
  {
   "cell_type": "code",
   "execution_count": null,
   "metadata": {},
   "outputs": [],
   "source": [
    "np.save(f\"../data/{dataset}_EKF_localization_T_mean\",T_mean)\n",
    "# np.save(f\"../data/{dataset}_EKF_localization_T_covar\",T_covar)"
   ]
  }
 ],
 "metadata": {
  "kernelspec": {
   "display_name": "base",
   "language": "python",
   "name": "python3"
  },
  "language_info": {
   "codemirror_mode": {
    "name": "ipython",
    "version": 3
   },
   "file_extension": ".py",
   "mimetype": "text/x-python",
   "name": "python",
   "nbconvert_exporter": "python",
   "pygments_lexer": "ipython3",
   "version": "3.11.6"
  }
 },
 "nbformat": 4,
 "nbformat_minor": 2
}
